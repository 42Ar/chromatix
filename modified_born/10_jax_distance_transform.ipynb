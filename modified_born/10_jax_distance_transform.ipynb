{
 "cells": [
  {
   "cell_type": "code",
   "execution_count": 40,
   "metadata": {},
   "outputs": [],
   "source": [
    "import jax\n",
    "import jax.numpy as jnp\n",
    "import numpy as np\n",
    "import matplotlib.pyplot as plt\n",
    "from scipy import ndimage\n"
   ]
  },
  {
   "cell_type": "code",
   "execution_count": 60,
   "metadata": {},
   "outputs": [
    {
     "name": "stdout",
     "output_type": "stream",
     "text": [
      "[[2.828427  2.2360678 2.        2.2360678 2.828427 ]\n",
      " [2.2360678 1.4142135 1.        1.4142135 2.2360678]\n",
      " [2.        1.        0.        1.        2.       ]\n",
      " [2.2360678 1.4142135 1.        1.4142135 2.2360678]\n",
      " [2.828427  2.2360678 2.        2.2360678 2.828427 ]]\n"
     ]
    }
   ],
   "source": [
    "import jax\n",
    "import jax.numpy as jnp\n",
    "from jax import jit\n",
    "\n",
    "@jit \n",
    "def edt_jax(binary_input: jnp.ndarray) -> jnp.ndarray:\n",
    "    \"\"\"Compute Euclidean distance transform of binary input.\"\"\"\n",
    "    # Initialize distance grid\n",
    "    d = jnp.where(binary_input == 1, jnp.inf, 0.0)\n",
    "\n",
    "    # Process each axis\n",
    "    for axis in range(binary_input.ndim):\n",
    "        # Move current axis to front for processing\n",
    "        d = jnp.moveaxis(d, axis, 0)\n",
    "        # Process each 1D line along current axis\n",
    "        u = jnp.arange(d.shape[0])[:, None, None]  # Make broadcastable\n",
    "        \n",
    "        # For each position, compute distance to every possible target\n",
    "        # and take minimum\n",
    "        d_line = jnp.min((u - jnp.arange(d.shape[0])[None, :, None]) ** 2 + d, axis=1)\n",
    "        d = jnp.moveaxis(d_line, 0, axis)\n",
    "\n",
    "    return jnp.sqrt(d)\n",
    "\n",
    "# Test\n",
    "x = jnp.ones((5, 5))\n",
    "x = x.at[2, 2].set(0) \n",
    "print(edt_jax(x))"
   ]
  },
  {
   "cell_type": "code",
   "execution_count": 63,
   "metadata": {},
   "outputs": [
    {
     "name": "stdout",
     "output_type": "stream",
     "text": [
      "[[4.4721355 2.828427  2.        2.828427  4.4721355]\n",
      " [4.1231055 2.2360678 1.        2.2360678 4.1231055]\n",
      " [4.        2.        0.        2.        4.       ]\n",
      " [4.1231055 2.2360678 1.        2.2360678 4.1231055]\n",
      " [4.4721355 2.828427  2.        2.828427  4.4721355]]\n"
     ]
    }
   ],
   "source": [
    "@jit \n",
    "def edt_jax(binary_input: jnp.ndarray, sampling: tuple = None) -> jnp.ndarray:\n",
    "    \"\"\"Compute Euclidean distance transform of binary input with per-dimension sampling.\"\"\"\n",
    "    d = jnp.where(binary_input == 1, jnp.inf, 0.0)\n",
    "    \n",
    "    sampling = sampling or (1.0,) * binary_input.ndim\n",
    "\n",
    "    for axis in range(binary_input.ndim):\n",
    "        d = jnp.moveaxis(d, axis, 0)\n",
    "        u = jnp.arange(d.shape[0])[:, None, None] * sampling[axis]\n",
    "        d_line = jnp.min((u - jnp.arange(d.shape[0])[None, :, None] * sampling[axis]) ** 2 + d, axis=1)\n",
    "        d = jnp.moveaxis(d_line, 0, axis)\n",
    "\n",
    "    return jnp.sqrt(d)\n",
    "\n",
    "# Test with different sampling per dimension\n",
    "x = jnp.ones((5, 5))\n",
    "x = x.at[2, 2].set(0)\n",
    "print(edt_jax(x, sampling=(1.0, 2.0)))  # Y dimension stretched by 2x"
   ]
  },
  {
   "cell_type": "code",
   "execution_count": 65,
   "metadata": {},
   "outputs": [
    {
     "name": "stdout",
     "output_type": "stream",
     "text": [
      "[[0.        1.        2.2360678 3.6055512 3.       ]\n",
      " [0.        0.        2.        2.828427  2.       ]\n",
      " [0.        1.        2.2360678 2.        1.       ]\n",
      " [0.        2.        2.2360678 1.        0.       ]\n",
      " [0.        2.        2.        0.        0.       ]]\n"
     ]
    }
   ],
   "source": [
    "print(edt_jax(a, sampling=(1.0, 2.0))) "
   ]
  },
  {
   "cell_type": "code",
   "execution_count": 66,
   "metadata": {},
   "outputs": [
    {
     "data": {
      "text/plain": [
       "array([[0.        , 1.        , 2.23606798, 3.60555128, 3.        ],\n",
       "       [0.        , 0.        , 2.        , 2.82842712, 2.        ],\n",
       "       [0.        , 1.        , 2.23606798, 2.        , 1.        ],\n",
       "       [0.        , 2.        , 2.23606798, 1.        , 0.        ],\n",
       "       [0.        , 2.        , 2.        , 0.        , 0.        ]])"
      ]
     },
     "execution_count": 66,
     "metadata": {},
     "output_type": "execute_result"
    }
   ],
   "source": [
    "ndimage.distance_transform_edt(a, sampling=(1.0, 2.0))"
   ]
  },
  {
   "cell_type": "code",
   "execution_count": 67,
   "metadata": {},
   "outputs": [
    {
     "ename": "ValueError",
     "evalue": "axis 2 is out of bounds for array of dimension 2",
     "output_type": "error",
     "traceback": [
      "\u001b[0;31m---------------------------------------------------------------------------\u001b[0m",
      "\u001b[0;31mValueError\u001b[0m                                Traceback (most recent call last)",
      "Cell \u001b[0;32mIn[67], line 4\u001b[0m\n\u001b[1;32m      2\u001b[0m x \u001b[38;5;241m=\u001b[39m jnp\u001b[38;5;241m.\u001b[39mones((\u001b[38;5;241m4\u001b[39m, \u001b[38;5;241m4\u001b[39m, \u001b[38;5;241m4\u001b[39m))\n\u001b[1;32m      3\u001b[0m x \u001b[38;5;241m=\u001b[39m x\u001b[38;5;241m.\u001b[39mat[\u001b[38;5;241m2\u001b[39m, \u001b[38;5;241m2\u001b[39m, \u001b[38;5;241m2\u001b[39m]\u001b[38;5;241m.\u001b[39mset(\u001b[38;5;241m0\u001b[39m)  \u001b[38;5;66;03m# Single point at center\u001b[39;00m\n\u001b[0;32m----> 4\u001b[0m \u001b[38;5;28mprint\u001b[39m(\u001b[43medt_jax\u001b[49m\u001b[43m(\u001b[49m\u001b[43mx\u001b[49m\u001b[43m,\u001b[49m\u001b[43m \u001b[49m\u001b[43msampling\u001b[49m\u001b[38;5;241;43m=\u001b[39;49m\u001b[43m(\u001b[49m\u001b[38;5;241;43m1.0\u001b[39;49m\u001b[43m,\u001b[49m\u001b[43m \u001b[49m\u001b[38;5;241;43m2.0\u001b[39;49m\u001b[43m,\u001b[49m\u001b[43m \u001b[49m\u001b[38;5;241;43m3.0\u001b[39;49m\u001b[43m)\u001b[49m\u001b[43m)\u001b[49m)  \u001b[38;5;66;03m# Different sampling per dimension\u001b[39;00m\n",
      "    \u001b[0;31m[... skipping hidden 11 frame]\u001b[0m\n",
      "Cell \u001b[0;32mIn[63], line 9\u001b[0m, in \u001b[0;36medt_jax\u001b[0;34m(binary_input, sampling)\u001b[0m\n\u001b[1;32m      6\u001b[0m sampling \u001b[38;5;241m=\u001b[39m sampling \u001b[38;5;129;01mor\u001b[39;00m (\u001b[38;5;241m1.0\u001b[39m,) \u001b[38;5;241m*\u001b[39m binary_input\u001b[38;5;241m.\u001b[39mndim\n\u001b[1;32m      8\u001b[0m \u001b[38;5;28;01mfor\u001b[39;00m axis \u001b[38;5;129;01min\u001b[39;00m \u001b[38;5;28mrange\u001b[39m(binary_input\u001b[38;5;241m.\u001b[39mndim):\n\u001b[0;32m----> 9\u001b[0m     d \u001b[38;5;241m=\u001b[39m \u001b[43mjnp\u001b[49m\u001b[38;5;241;43m.\u001b[39;49m\u001b[43mmoveaxis\u001b[49m\u001b[43m(\u001b[49m\u001b[43md\u001b[49m\u001b[43m,\u001b[49m\u001b[43m \u001b[49m\u001b[43maxis\u001b[49m\u001b[43m,\u001b[49m\u001b[43m \u001b[49m\u001b[38;5;241;43m0\u001b[39;49m\u001b[43m)\u001b[49m\n\u001b[1;32m     10\u001b[0m     u \u001b[38;5;241m=\u001b[39m jnp\u001b[38;5;241m.\u001b[39marange(d\u001b[38;5;241m.\u001b[39mshape[\u001b[38;5;241m0\u001b[39m])[:, \u001b[38;5;28;01mNone\u001b[39;00m, \u001b[38;5;28;01mNone\u001b[39;00m] \u001b[38;5;241m*\u001b[39m sampling[axis]\n\u001b[1;32m     11\u001b[0m     d_line \u001b[38;5;241m=\u001b[39m jnp\u001b[38;5;241m.\u001b[39mmin((u \u001b[38;5;241m-\u001b[39m jnp\u001b[38;5;241m.\u001b[39marange(d\u001b[38;5;241m.\u001b[39mshape[\u001b[38;5;241m0\u001b[39m])[\u001b[38;5;28;01mNone\u001b[39;00m, :, \u001b[38;5;28;01mNone\u001b[39;00m] \u001b[38;5;241m*\u001b[39m sampling[axis]) \u001b[38;5;241m*\u001b[39m\u001b[38;5;241m*\u001b[39m \u001b[38;5;241m2\u001b[39m \u001b[38;5;241m+\u001b[39m d, axis\u001b[38;5;241m=\u001b[39m\u001b[38;5;241m1\u001b[39m)\n",
      "File \u001b[0;32m~/chromatix/.venv/lib/python3.10/site-packages/jax/_src/numpy/lax_numpy.py:2620\u001b[0m, in \u001b[0;36mmoveaxis\u001b[0;34m(a, source, destination)\u001b[0m\n\u001b[1;32m   2573\u001b[0m \u001b[38;5;250m\u001b[39m\u001b[38;5;124;03m\"\"\"Move an array axis to a new position\u001b[39;00m\n\u001b[1;32m   2574\u001b[0m \n\u001b[1;32m   2575\u001b[0m \u001b[38;5;124;03mJAX implementation of :func:`numpy.moveaxis`, implemented in terms of\u001b[39;00m\n\u001b[0;32m   (...)\u001b[0m\n\u001b[1;32m   2617\u001b[0m \u001b[38;5;124;03m  (4, 5, 3, 2)\u001b[39;00m\n\u001b[1;32m   2618\u001b[0m \u001b[38;5;124;03m\"\"\"\u001b[39;00m\n\u001b[1;32m   2619\u001b[0m util\u001b[38;5;241m.\u001b[39mcheck_arraylike(\u001b[38;5;124m\"\u001b[39m\u001b[38;5;124mmoveaxis\u001b[39m\u001b[38;5;124m\"\u001b[39m, a)\n\u001b[0;32m-> 2620\u001b[0m \u001b[38;5;28;01mreturn\u001b[39;00m \u001b[43m_moveaxis\u001b[49m\u001b[43m(\u001b[49m\u001b[43masarray\u001b[49m\u001b[43m(\u001b[49m\u001b[43ma\u001b[49m\u001b[43m)\u001b[49m\u001b[43m,\u001b[49m\u001b[43m \u001b[49m\u001b[43m_ensure_index_tuple\u001b[49m\u001b[43m(\u001b[49m\u001b[43msource\u001b[49m\u001b[43m)\u001b[49m\u001b[43m,\u001b[49m\n\u001b[1;32m   2621\u001b[0m \u001b[43m                 \u001b[49m\u001b[43m_ensure_index_tuple\u001b[49m\u001b[43m(\u001b[49m\u001b[43mdestination\u001b[49m\u001b[43m)\u001b[49m\u001b[43m)\u001b[49m\n",
      "    \u001b[0;31m[... skipping hidden 11 frame]\u001b[0m\n",
      "File \u001b[0;32m~/chromatix/.venv/lib/python3.10/site-packages/jax/_src/numpy/lax_numpy.py:2625\u001b[0m, in \u001b[0;36m_moveaxis\u001b[0;34m(a, source, destination)\u001b[0m\n\u001b[1;32m   2623\u001b[0m \u001b[38;5;129m@partial\u001b[39m(jit, static_argnames\u001b[38;5;241m=\u001b[39m(\u001b[38;5;124m'\u001b[39m\u001b[38;5;124msource\u001b[39m\u001b[38;5;124m'\u001b[39m, \u001b[38;5;124m'\u001b[39m\u001b[38;5;124mdestination\u001b[39m\u001b[38;5;124m'\u001b[39m), inline\u001b[38;5;241m=\u001b[39m\u001b[38;5;28;01mTrue\u001b[39;00m)\n\u001b[1;32m   2624\u001b[0m \u001b[38;5;28;01mdef\u001b[39;00m \u001b[38;5;21m_moveaxis\u001b[39m(a: Array, source: \u001b[38;5;28mtuple\u001b[39m[\u001b[38;5;28mint\u001b[39m, \u001b[38;5;241m.\u001b[39m\u001b[38;5;241m.\u001b[39m\u001b[38;5;241m.\u001b[39m], destination: \u001b[38;5;28mtuple\u001b[39m[\u001b[38;5;28mint\u001b[39m, \u001b[38;5;241m.\u001b[39m\u001b[38;5;241m.\u001b[39m\u001b[38;5;241m.\u001b[39m]) \u001b[38;5;241m-\u001b[39m\u001b[38;5;241m>\u001b[39m Array:\n\u001b[0;32m-> 2625\u001b[0m   source \u001b[38;5;241m=\u001b[39m \u001b[38;5;28;43mtuple\u001b[39;49m\u001b[43m(\u001b[49m\u001b[43m_canonicalize_axis\u001b[49m\u001b[43m(\u001b[49m\u001b[43mi\u001b[49m\u001b[43m,\u001b[49m\u001b[43m \u001b[49m\u001b[43mndim\u001b[49m\u001b[43m(\u001b[49m\u001b[43ma\u001b[49m\u001b[43m)\u001b[49m\u001b[43m)\u001b[49m\u001b[43m \u001b[49m\u001b[38;5;28;43;01mfor\u001b[39;49;00m\u001b[43m \u001b[49m\u001b[43mi\u001b[49m\u001b[43m \u001b[49m\u001b[38;5;129;43;01min\u001b[39;49;00m\u001b[43m \u001b[49m\u001b[43msource\u001b[49m\u001b[43m)\u001b[49m\n\u001b[1;32m   2626\u001b[0m   destination \u001b[38;5;241m=\u001b[39m \u001b[38;5;28mtuple\u001b[39m(_canonicalize_axis(i, ndim(a)) \u001b[38;5;28;01mfor\u001b[39;00m i \u001b[38;5;129;01min\u001b[39;00m destination)\n\u001b[1;32m   2627\u001b[0m   \u001b[38;5;28;01mif\u001b[39;00m \u001b[38;5;28mlen\u001b[39m(source) \u001b[38;5;241m!=\u001b[39m \u001b[38;5;28mlen\u001b[39m(destination):\n",
      "File \u001b[0;32m~/chromatix/.venv/lib/python3.10/site-packages/jax/_src/numpy/lax_numpy.py:2625\u001b[0m, in \u001b[0;36m<genexpr>\u001b[0;34m(.0)\u001b[0m\n\u001b[1;32m   2623\u001b[0m \u001b[38;5;129m@partial\u001b[39m(jit, static_argnames\u001b[38;5;241m=\u001b[39m(\u001b[38;5;124m'\u001b[39m\u001b[38;5;124msource\u001b[39m\u001b[38;5;124m'\u001b[39m, \u001b[38;5;124m'\u001b[39m\u001b[38;5;124mdestination\u001b[39m\u001b[38;5;124m'\u001b[39m), inline\u001b[38;5;241m=\u001b[39m\u001b[38;5;28;01mTrue\u001b[39;00m)\n\u001b[1;32m   2624\u001b[0m \u001b[38;5;28;01mdef\u001b[39;00m \u001b[38;5;21m_moveaxis\u001b[39m(a: Array, source: \u001b[38;5;28mtuple\u001b[39m[\u001b[38;5;28mint\u001b[39m, \u001b[38;5;241m.\u001b[39m\u001b[38;5;241m.\u001b[39m\u001b[38;5;241m.\u001b[39m], destination: \u001b[38;5;28mtuple\u001b[39m[\u001b[38;5;28mint\u001b[39m, \u001b[38;5;241m.\u001b[39m\u001b[38;5;241m.\u001b[39m\u001b[38;5;241m.\u001b[39m]) \u001b[38;5;241m-\u001b[39m\u001b[38;5;241m>\u001b[39m Array:\n\u001b[0;32m-> 2625\u001b[0m   source \u001b[38;5;241m=\u001b[39m \u001b[38;5;28mtuple\u001b[39m(\u001b[43m_canonicalize_axis\u001b[49m\u001b[43m(\u001b[49m\u001b[43mi\u001b[49m\u001b[43m,\u001b[49m\u001b[43m \u001b[49m\u001b[43mndim\u001b[49m\u001b[43m(\u001b[49m\u001b[43ma\u001b[49m\u001b[43m)\u001b[49m\u001b[43m)\u001b[49m \u001b[38;5;28;01mfor\u001b[39;00m i \u001b[38;5;129;01min\u001b[39;00m source)\n\u001b[1;32m   2626\u001b[0m   destination \u001b[38;5;241m=\u001b[39m \u001b[38;5;28mtuple\u001b[39m(_canonicalize_axis(i, ndim(a)) \u001b[38;5;28;01mfor\u001b[39;00m i \u001b[38;5;129;01min\u001b[39;00m destination)\n\u001b[1;32m   2627\u001b[0m   \u001b[38;5;28;01mif\u001b[39;00m \u001b[38;5;28mlen\u001b[39m(source) \u001b[38;5;241m!=\u001b[39m \u001b[38;5;28mlen\u001b[39m(destination):\n",
      "File \u001b[0;32m~/chromatix/.venv/lib/python3.10/site-packages/jax/_src/util.py:389\u001b[0m, in \u001b[0;36mcanonicalize_axis\u001b[0;34m(axis, num_dims)\u001b[0m\n\u001b[1;32m    387\u001b[0m axis \u001b[38;5;241m=\u001b[39m operator\u001b[38;5;241m.\u001b[39mindex(axis)\n\u001b[1;32m    388\u001b[0m \u001b[38;5;28;01mif\u001b[39;00m \u001b[38;5;129;01mnot\u001b[39;00m \u001b[38;5;241m-\u001b[39mnum_dims \u001b[38;5;241m<\u001b[39m\u001b[38;5;241m=\u001b[39m axis \u001b[38;5;241m<\u001b[39m num_dims:\n\u001b[0;32m--> 389\u001b[0m   \u001b[38;5;28;01mraise\u001b[39;00m \u001b[38;5;167;01mValueError\u001b[39;00m(\u001b[38;5;124mf\u001b[39m\u001b[38;5;124m\"\u001b[39m\u001b[38;5;124maxis \u001b[39m\u001b[38;5;132;01m{\u001b[39;00maxis\u001b[38;5;132;01m}\u001b[39;00m\u001b[38;5;124m is out of bounds for array of dimension \u001b[39m\u001b[38;5;132;01m{\u001b[39;00mnum_dims\u001b[38;5;132;01m}\u001b[39;00m\u001b[38;5;124m\"\u001b[39m)\n\u001b[1;32m    390\u001b[0m \u001b[38;5;28;01mif\u001b[39;00m axis \u001b[38;5;241m<\u001b[39m \u001b[38;5;241m0\u001b[39m:\n\u001b[1;32m    391\u001b[0m   axis \u001b[38;5;241m=\u001b[39m axis \u001b[38;5;241m+\u001b[39m num_dims\n",
      "\u001b[0;31mValueError\u001b[0m: axis 2 is out of bounds for array of dimension 2"
     ]
    }
   ],
   "source": [
    "# Test with 3D array\n",
    "x = jnp.ones((4, 4, 4))\n",
    "x = x.at[2, 2, 2].set(0)  # Single point at center\n",
    "print(edt_jax(x, sampling=(1.0, 2.0, 3.0)))  # Different sampling per dimension"
   ]
  },
  {
   "cell_type": "code",
   "execution_count": 68,
   "metadata": {},
   "outputs": [
    {
     "name": "stdout",
     "output_type": "stream",
     "text": [
      "[[[0.]]]\n"
     ]
    }
   ],
   "source": [
    "import jax\n",
    "import jax.numpy as jnp\n",
    "from jax import jit\n",
    "\n",
    "@jit \n",
    "def edt_jax(binary_input: jnp.ndarray, sampling: tuple = None) -> jnp.ndarray:\n",
    "    \"\"\"Compute Euclidean distance transform of binary input with per-dimension sampling.\"\"\"\n",
    "    d = jnp.where(binary_input == 1, jnp.inf, 0.0)\n",
    "    \n",
    "    sampling = sampling or (1.0,) * binary_input.ndim\n",
    "    ndim = binary_input.ndim\n",
    "\n",
    "    for axis in range(ndim):\n",
    "        d = jnp.moveaxis(d, axis, 0)\n",
    "        u = jnp.arange(d.shape[0])\n",
    "        for _ in range(ndim - 1):\n",
    "            u = u[:, None]\n",
    "        u = u * sampling[axis]\n",
    "        \n",
    "        target = jnp.arange(d.shape[0])\n",
    "        for _ in range(ndim - 2):\n",
    "            target = target[:, None]\n",
    "        target = target[None, :, None] * sampling[axis]\n",
    "        \n",
    "        d_line = jnp.min((u - target) ** 2 + d, axis=1)\n",
    "        d = jnp.moveaxis(d_line, 0, axis)\n",
    "\n",
    "    return jnp.sqrt(d)\n",
    "\n",
    "# Test with 3D array\n",
    "x = jnp.ones((4, 4, 4))\n",
    "x = x.at[2, 2, 2].set(0)  # Single point at center\n",
    "print(edt_jax(x, sampling=(1.0, 2.0, 3.0)))  # Different sampling per dimension"
   ]
  },
  {
   "cell_type": "code",
   "execution_count": 70,
   "metadata": {},
   "outputs": [
    {
     "ename": "ValueError",
     "evalue": "axis 2 is out of bounds for array of dimension 2",
     "output_type": "error",
     "traceback": [
      "\u001b[0;31m---------------------------------------------------------------------------\u001b[0m",
      "\u001b[0;31mValueError\u001b[0m                                Traceback (most recent call last)",
      "Cell \u001b[0;32mIn[70], line 29\u001b[0m\n\u001b[1;32m     27\u001b[0m x \u001b[38;5;241m=\u001b[39m jnp\u001b[38;5;241m.\u001b[39mones((\u001b[38;5;241m4\u001b[39m, \u001b[38;5;241m4\u001b[39m, \u001b[38;5;241m4\u001b[39m))\n\u001b[1;32m     28\u001b[0m x \u001b[38;5;241m=\u001b[39m x\u001b[38;5;241m.\u001b[39mat[\u001b[38;5;241m2\u001b[39m, \u001b[38;5;241m2\u001b[39m, \u001b[38;5;241m2\u001b[39m]\u001b[38;5;241m.\u001b[39mset(\u001b[38;5;241m0\u001b[39m)  \u001b[38;5;66;03m# Single point at center\u001b[39;00m\n\u001b[0;32m---> 29\u001b[0m \u001b[38;5;28mprint\u001b[39m(\u001b[43medt_jax\u001b[49m\u001b[43m(\u001b[49m\u001b[43mx\u001b[49m\u001b[43m,\u001b[49m\u001b[43m \u001b[49m\u001b[43msampling\u001b[49m\u001b[38;5;241;43m=\u001b[39;49m\u001b[43m(\u001b[49m\u001b[38;5;241;43m1.0\u001b[39;49m\u001b[43m,\u001b[49m\u001b[43m \u001b[49m\u001b[38;5;241;43m2.0\u001b[39;49m\u001b[43m,\u001b[49m\u001b[43m \u001b[49m\u001b[38;5;241;43m3.0\u001b[39;49m\u001b[43m)\u001b[49m\u001b[43m)\u001b[49m)  \u001b[38;5;66;03m# Different sampling per dimension\u001b[39;00m\n",
      "    \u001b[0;31m[... skipping hidden 11 frame]\u001b[0m\n",
      "Cell \u001b[0;32mIn[70], line 12\u001b[0m, in \u001b[0;36medt_jax\u001b[0;34m(binary_input, sampling)\u001b[0m\n\u001b[1;32m      9\u001b[0m sampling \u001b[38;5;241m=\u001b[39m sampling \u001b[38;5;129;01mor\u001b[39;00m (\u001b[38;5;241m1.0\u001b[39m,) \u001b[38;5;241m*\u001b[39m binary_input\u001b[38;5;241m.\u001b[39mndim\n\u001b[1;32m     11\u001b[0m \u001b[38;5;28;01mfor\u001b[39;00m axis \u001b[38;5;129;01min\u001b[39;00m \u001b[38;5;28mrange\u001b[39m(binary_input\u001b[38;5;241m.\u001b[39mndim):\n\u001b[0;32m---> 12\u001b[0m     d \u001b[38;5;241m=\u001b[39m \u001b[43mjnp\u001b[49m\u001b[38;5;241;43m.\u001b[39;49m\u001b[43mmoveaxis\u001b[49m\u001b[43m(\u001b[49m\u001b[43md\u001b[49m\u001b[43m,\u001b[49m\u001b[43m \u001b[49m\u001b[43maxis\u001b[49m\u001b[43m,\u001b[49m\u001b[43m \u001b[49m\u001b[38;5;241;43m0\u001b[39;49m\u001b[43m)\u001b[49m\n\u001b[1;32m     13\u001b[0m     shape \u001b[38;5;241m=\u001b[39m [\u001b[38;5;241m1\u001b[39m] \u001b[38;5;241m*\u001b[39m (binary_input\u001b[38;5;241m.\u001b[39mndim \u001b[38;5;241m+\u001b[39m \u001b[38;5;241m1\u001b[39m)\n\u001b[1;32m     14\u001b[0m     shape[\u001b[38;5;241m0\u001b[39m] \u001b[38;5;241m=\u001b[39m d\u001b[38;5;241m.\u001b[39mshape[\u001b[38;5;241m0\u001b[39m]\n",
      "File \u001b[0;32m~/chromatix/.venv/lib/python3.10/site-packages/jax/_src/numpy/lax_numpy.py:2620\u001b[0m, in \u001b[0;36mmoveaxis\u001b[0;34m(a, source, destination)\u001b[0m\n\u001b[1;32m   2573\u001b[0m \u001b[38;5;250m\u001b[39m\u001b[38;5;124;03m\"\"\"Move an array axis to a new position\u001b[39;00m\n\u001b[1;32m   2574\u001b[0m \n\u001b[1;32m   2575\u001b[0m \u001b[38;5;124;03mJAX implementation of :func:`numpy.moveaxis`, implemented in terms of\u001b[39;00m\n\u001b[0;32m   (...)\u001b[0m\n\u001b[1;32m   2617\u001b[0m \u001b[38;5;124;03m  (4, 5, 3, 2)\u001b[39;00m\n\u001b[1;32m   2618\u001b[0m \u001b[38;5;124;03m\"\"\"\u001b[39;00m\n\u001b[1;32m   2619\u001b[0m util\u001b[38;5;241m.\u001b[39mcheck_arraylike(\u001b[38;5;124m\"\u001b[39m\u001b[38;5;124mmoveaxis\u001b[39m\u001b[38;5;124m\"\u001b[39m, a)\n\u001b[0;32m-> 2620\u001b[0m \u001b[38;5;28;01mreturn\u001b[39;00m \u001b[43m_moveaxis\u001b[49m\u001b[43m(\u001b[49m\u001b[43masarray\u001b[49m\u001b[43m(\u001b[49m\u001b[43ma\u001b[49m\u001b[43m)\u001b[49m\u001b[43m,\u001b[49m\u001b[43m \u001b[49m\u001b[43m_ensure_index_tuple\u001b[49m\u001b[43m(\u001b[49m\u001b[43msource\u001b[49m\u001b[43m)\u001b[49m\u001b[43m,\u001b[49m\n\u001b[1;32m   2621\u001b[0m \u001b[43m                 \u001b[49m\u001b[43m_ensure_index_tuple\u001b[49m\u001b[43m(\u001b[49m\u001b[43mdestination\u001b[49m\u001b[43m)\u001b[49m\u001b[43m)\u001b[49m\n",
      "    \u001b[0;31m[... skipping hidden 11 frame]\u001b[0m\n",
      "File \u001b[0;32m~/chromatix/.venv/lib/python3.10/site-packages/jax/_src/numpy/lax_numpy.py:2625\u001b[0m, in \u001b[0;36m_moveaxis\u001b[0;34m(a, source, destination)\u001b[0m\n\u001b[1;32m   2623\u001b[0m \u001b[38;5;129m@partial\u001b[39m(jit, static_argnames\u001b[38;5;241m=\u001b[39m(\u001b[38;5;124m'\u001b[39m\u001b[38;5;124msource\u001b[39m\u001b[38;5;124m'\u001b[39m, \u001b[38;5;124m'\u001b[39m\u001b[38;5;124mdestination\u001b[39m\u001b[38;5;124m'\u001b[39m), inline\u001b[38;5;241m=\u001b[39m\u001b[38;5;28;01mTrue\u001b[39;00m)\n\u001b[1;32m   2624\u001b[0m \u001b[38;5;28;01mdef\u001b[39;00m \u001b[38;5;21m_moveaxis\u001b[39m(a: Array, source: \u001b[38;5;28mtuple\u001b[39m[\u001b[38;5;28mint\u001b[39m, \u001b[38;5;241m.\u001b[39m\u001b[38;5;241m.\u001b[39m\u001b[38;5;241m.\u001b[39m], destination: \u001b[38;5;28mtuple\u001b[39m[\u001b[38;5;28mint\u001b[39m, \u001b[38;5;241m.\u001b[39m\u001b[38;5;241m.\u001b[39m\u001b[38;5;241m.\u001b[39m]) \u001b[38;5;241m-\u001b[39m\u001b[38;5;241m>\u001b[39m Array:\n\u001b[0;32m-> 2625\u001b[0m   source \u001b[38;5;241m=\u001b[39m \u001b[38;5;28;43mtuple\u001b[39;49m\u001b[43m(\u001b[49m\u001b[43m_canonicalize_axis\u001b[49m\u001b[43m(\u001b[49m\u001b[43mi\u001b[49m\u001b[43m,\u001b[49m\u001b[43m \u001b[49m\u001b[43mndim\u001b[49m\u001b[43m(\u001b[49m\u001b[43ma\u001b[49m\u001b[43m)\u001b[49m\u001b[43m)\u001b[49m\u001b[43m \u001b[49m\u001b[38;5;28;43;01mfor\u001b[39;49;00m\u001b[43m \u001b[49m\u001b[43mi\u001b[49m\u001b[43m \u001b[49m\u001b[38;5;129;43;01min\u001b[39;49;00m\u001b[43m \u001b[49m\u001b[43msource\u001b[49m\u001b[43m)\u001b[49m\n\u001b[1;32m   2626\u001b[0m   destination \u001b[38;5;241m=\u001b[39m \u001b[38;5;28mtuple\u001b[39m(_canonicalize_axis(i, ndim(a)) \u001b[38;5;28;01mfor\u001b[39;00m i \u001b[38;5;129;01min\u001b[39;00m destination)\n\u001b[1;32m   2627\u001b[0m   \u001b[38;5;28;01mif\u001b[39;00m \u001b[38;5;28mlen\u001b[39m(source) \u001b[38;5;241m!=\u001b[39m \u001b[38;5;28mlen\u001b[39m(destination):\n",
      "File \u001b[0;32m~/chromatix/.venv/lib/python3.10/site-packages/jax/_src/numpy/lax_numpy.py:2625\u001b[0m, in \u001b[0;36m<genexpr>\u001b[0;34m(.0)\u001b[0m\n\u001b[1;32m   2623\u001b[0m \u001b[38;5;129m@partial\u001b[39m(jit, static_argnames\u001b[38;5;241m=\u001b[39m(\u001b[38;5;124m'\u001b[39m\u001b[38;5;124msource\u001b[39m\u001b[38;5;124m'\u001b[39m, \u001b[38;5;124m'\u001b[39m\u001b[38;5;124mdestination\u001b[39m\u001b[38;5;124m'\u001b[39m), inline\u001b[38;5;241m=\u001b[39m\u001b[38;5;28;01mTrue\u001b[39;00m)\n\u001b[1;32m   2624\u001b[0m \u001b[38;5;28;01mdef\u001b[39;00m \u001b[38;5;21m_moveaxis\u001b[39m(a: Array, source: \u001b[38;5;28mtuple\u001b[39m[\u001b[38;5;28mint\u001b[39m, \u001b[38;5;241m.\u001b[39m\u001b[38;5;241m.\u001b[39m\u001b[38;5;241m.\u001b[39m], destination: \u001b[38;5;28mtuple\u001b[39m[\u001b[38;5;28mint\u001b[39m, \u001b[38;5;241m.\u001b[39m\u001b[38;5;241m.\u001b[39m\u001b[38;5;241m.\u001b[39m]) \u001b[38;5;241m-\u001b[39m\u001b[38;5;241m>\u001b[39m Array:\n\u001b[0;32m-> 2625\u001b[0m   source \u001b[38;5;241m=\u001b[39m \u001b[38;5;28mtuple\u001b[39m(\u001b[43m_canonicalize_axis\u001b[49m\u001b[43m(\u001b[49m\u001b[43mi\u001b[49m\u001b[43m,\u001b[49m\u001b[43m \u001b[49m\u001b[43mndim\u001b[49m\u001b[43m(\u001b[49m\u001b[43ma\u001b[49m\u001b[43m)\u001b[49m\u001b[43m)\u001b[49m \u001b[38;5;28;01mfor\u001b[39;00m i \u001b[38;5;129;01min\u001b[39;00m source)\n\u001b[1;32m   2626\u001b[0m   destination \u001b[38;5;241m=\u001b[39m \u001b[38;5;28mtuple\u001b[39m(_canonicalize_axis(i, ndim(a)) \u001b[38;5;28;01mfor\u001b[39;00m i \u001b[38;5;129;01min\u001b[39;00m destination)\n\u001b[1;32m   2627\u001b[0m   \u001b[38;5;28;01mif\u001b[39;00m \u001b[38;5;28mlen\u001b[39m(source) \u001b[38;5;241m!=\u001b[39m \u001b[38;5;28mlen\u001b[39m(destination):\n",
      "File \u001b[0;32m~/chromatix/.venv/lib/python3.10/site-packages/jax/_src/util.py:389\u001b[0m, in \u001b[0;36mcanonicalize_axis\u001b[0;34m(axis, num_dims)\u001b[0m\n\u001b[1;32m    387\u001b[0m axis \u001b[38;5;241m=\u001b[39m operator\u001b[38;5;241m.\u001b[39mindex(axis)\n\u001b[1;32m    388\u001b[0m \u001b[38;5;28;01mif\u001b[39;00m \u001b[38;5;129;01mnot\u001b[39;00m \u001b[38;5;241m-\u001b[39mnum_dims \u001b[38;5;241m<\u001b[39m\u001b[38;5;241m=\u001b[39m axis \u001b[38;5;241m<\u001b[39m num_dims:\n\u001b[0;32m--> 389\u001b[0m   \u001b[38;5;28;01mraise\u001b[39;00m \u001b[38;5;167;01mValueError\u001b[39;00m(\u001b[38;5;124mf\u001b[39m\u001b[38;5;124m\"\u001b[39m\u001b[38;5;124maxis \u001b[39m\u001b[38;5;132;01m{\u001b[39;00maxis\u001b[38;5;132;01m}\u001b[39;00m\u001b[38;5;124m is out of bounds for array of dimension \u001b[39m\u001b[38;5;132;01m{\u001b[39;00mnum_dims\u001b[38;5;132;01m}\u001b[39;00m\u001b[38;5;124m\"\u001b[39m)\n\u001b[1;32m    390\u001b[0m \u001b[38;5;28;01mif\u001b[39;00m axis \u001b[38;5;241m<\u001b[39m \u001b[38;5;241m0\u001b[39m:\n\u001b[1;32m    391\u001b[0m   axis \u001b[38;5;241m=\u001b[39m axis \u001b[38;5;241m+\u001b[39m num_dims\n",
      "\u001b[0;31mValueError\u001b[0m: axis 2 is out of bounds for array of dimension 2"
     ]
    }
   ],
   "source": [
    "import jax\n",
    "import jax.numpy as jnp\n",
    "from jax import jit\n",
    "\n",
    "@jit \n",
    "def edt_jax(binary_input: jnp.ndarray, sampling: tuple = None) -> jnp.ndarray:\n",
    "    \"\"\"Compute Euclidean distance transform of binary input with per-dimension sampling.\"\"\"\n",
    "    d = jnp.where(binary_input == 1, jnp.inf, 0.0)\n",
    "    sampling = sampling or (1.0,) * binary_input.ndim\n",
    "\n",
    "    for axis in range(binary_input.ndim):\n",
    "        d = jnp.moveaxis(d, axis, 0)\n",
    "        shape = [1] * (binary_input.ndim + 1)\n",
    "        shape[0] = d.shape[0]\n",
    "        shape[1] = d.shape[0]\n",
    "        \n",
    "        # Create position arrays for broadcasting\n",
    "        u = jnp.arange(d.shape[0]).reshape([-1] + [1] * (binary_input.ndim-1)) * sampling[axis]\n",
    "        v = jnp.arange(d.shape[0]).reshape([1, -1] + [1] * (binary_input.ndim-2)) * sampling[axis]\n",
    "        \n",
    "        d_line = jnp.min((u - v) ** 2 + d, axis=1)\n",
    "        d = jnp.moveaxis(d_line, 0, axis)\n",
    "\n",
    "    return jnp.sqrt(d)\n",
    "\n",
    "# Test with 3D array\n",
    "x = jnp.ones((4, 4, 4))\n",
    "x = x.at[2, 2, 2].set(0)  # Single point at center\n",
    "print(edt_jax(x, sampling=(1.0, 2.0, 3.0)))  # Different sampling per dimension"
   ]
  },
  {
   "cell_type": "code",
   "execution_count": 71,
   "metadata": {},
   "outputs": [
    {
     "name": "stdout",
     "output_type": "stream",
     "text": [
      "[[[7.4833145 5.3851647 4.4721355 5.3851647]\n",
      "  [6.6332493 4.1231055 2.828427  4.1231055]\n",
      "  [6.3245554 3.6055512 2.        3.6055512]\n",
      "  [6.6332493 4.1231055 2.828427  4.1231055]]\n",
      "\n",
      " [[7.28011   5.0990195 4.1231055 5.0990195]\n",
      "  [6.403124  3.7416573 2.2360678 3.7416573]\n",
      "  [6.0827622 3.1622777 1.        3.1622777]\n",
      "  [6.403124  3.7416573 2.2360678 3.7416573]]\n",
      "\n",
      " [[7.2111025 5.        4.        5.       ]\n",
      "  [6.3245554 3.6055512 2.        3.6055512]\n",
      "  [6.        3.        0.        3.       ]\n",
      "  [6.3245554 3.6055512 2.        3.6055512]]\n",
      "\n",
      " [[7.28011   5.0990195 4.1231055 5.0990195]\n",
      "  [6.403124  3.7416573 2.2360678 3.7416573]\n",
      "  [6.0827622 3.1622777 1.        3.1622777]\n",
      "  [6.403124  3.7416573 2.2360678 3.7416573]]]\n"
     ]
    }
   ],
   "source": [
    "import jax\n",
    "import jax.numpy as jnp\n",
    "from jax import jit\n",
    "\n",
    "@jit \n",
    "def edt_jax(binary_input: jnp.ndarray, sampling: tuple = None) -> jnp.ndarray:\n",
    "    d = jnp.where(binary_input == 1, jnp.inf, 0.0)\n",
    "    sampling = sampling or (1.0,) * binary_input.ndim\n",
    "\n",
    "    for axis in range(binary_input.ndim):\n",
    "        d = jnp.moveaxis(d, axis, 0)\n",
    "        shape = list(d.shape)\n",
    "        coords = jnp.arange(shape[0]) * sampling[axis]\n",
    "        diff_sq = (coords[:, None] - coords[None, :]) ** 2\n",
    "        diff_sq = diff_sq.reshape((shape[0], shape[0]) + (1,) * (len(shape) - 1))\n",
    "        d_line = jnp.min(diff_sq + d, axis=1)\n",
    "        d = jnp.moveaxis(d_line, 0, axis)\n",
    "\n",
    "    return jnp.sqrt(d)\n",
    "\n",
    "# Test\n",
    "x = jnp.ones((4, 4, 4))\n",
    "x = x.at[2, 2, 2].set(0)\n",
    "print(edt_jax(x, sampling=(1.0, 2.0, 3.0)))"
   ]
  },
  {
   "cell_type": "code",
   "execution_count": 72,
   "metadata": {},
   "outputs": [
    {
     "data": {
      "text/plain": [
       "array([[[7.48331477, 5.38516481, 4.47213595, 5.38516481],\n",
       "        [6.63324958, 4.12310563, 2.82842712, 4.12310563],\n",
       "        [6.32455532, 3.60555128, 2.        , 3.60555128],\n",
       "        [6.63324958, 4.12310563, 2.82842712, 4.12310563]],\n",
       "\n",
       "       [[7.28010989, 5.09901951, 4.12310563, 5.09901951],\n",
       "        [6.40312424, 3.74165739, 2.23606798, 3.74165739],\n",
       "        [6.08276253, 3.16227766, 1.        , 3.16227766],\n",
       "        [6.40312424, 3.74165739, 2.23606798, 3.74165739]],\n",
       "\n",
       "       [[7.21110255, 5.        , 4.        , 5.        ],\n",
       "        [6.32455532, 3.60555128, 2.        , 3.60555128],\n",
       "        [6.        , 3.        , 0.        , 3.        ],\n",
       "        [6.32455532, 3.60555128, 2.        , 3.60555128]],\n",
       "\n",
       "       [[7.28010989, 5.09901951, 4.12310563, 5.09901951],\n",
       "        [6.40312424, 3.74165739, 2.23606798, 3.74165739],\n",
       "        [6.08276253, 3.16227766, 1.        , 3.16227766],\n",
       "        [6.40312424, 3.74165739, 2.23606798, 3.74165739]]])"
      ]
     },
     "execution_count": 72,
     "metadata": {},
     "output_type": "execute_result"
    }
   ],
   "source": [
    "ndimage.distance_transform_edt(x, sampling=(1.0, 2.0, 3.0))"
   ]
  },
  {
   "cell_type": "code",
   "execution_count": null,
   "metadata": {},
   "outputs": [],
   "source": []
  }
 ],
 "metadata": {
  "kernelspec": {
   "display_name": ".venv",
   "language": "python",
   "name": "python3"
  },
  "language_info": {
   "codemirror_mode": {
    "name": "ipython",
    "version": 3
   },
   "file_extension": ".py",
   "mimetype": "text/x-python",
   "name": "python",
   "nbconvert_exporter": "python",
   "pygments_lexer": "ipython3",
   "version": "3.10.14"
  }
 },
 "nbformat": 4,
 "nbformat_minor": 2
}

{
 "cells": [
  {
   "cell_type": "code",
   "execution_count": 1,
   "metadata": {},
   "outputs": [],
   "source": [
    "import chromatix.functional as cf\n",
    "import jax.numpy as jnp\n",
    "from sample import single_bead_sample \n",
    "from jax import Array\n",
    "\n",
    "import matplotlib.pyplot as plt\n",
    "from tensor_tomo import thick_polarised_sample\n",
    "\n",
    "%config InlineBackend.figure_format='retina'"
   ]
  },
  {
   "cell_type": "code",
   "execution_count": 2,
   "metadata": {},
   "outputs": [],
   "source": []
  },
  {
   "cell_type": "code",
   "execution_count": 10,
   "metadata": {},
   "outputs": [],
   "source": [
    "def run_sim(orientation: Array) -> tuple[Array, Array]:\n",
    "    # Our input field is a plane wave\n",
    "    shape = (5 * 90, 5 * 90) # sample size\n",
    "    spacing = 0.065 # from paper\n",
    "    wavelength = 0.405 # from paper\n",
    "    n_m = 1.33\n",
    "    polarisation = cf.linear(0) # x-polarised light\n",
    "    n_bead = jnp.array([1.44, 1.40, 1.37])  # z y x\n",
    "    bead_radius = 1.5\n",
    "    k0 = 2 * jnp.pi / wavelength  # mum\n",
    "    shape = (4.55, 11.7 / 2, 11.7 / 2)  # z y x # / 2 as we have only 1 bead\n",
    "\n",
    "    # Making incoming field\n",
    "    in_field = cf.plane_wave(shape, spacing, wavelength, 1.0, amplitude=polarisation, scalar=False, pupil=lambda f: cf.square_pupil(f, w =90*spacing), power=100)\n",
    "    \n",
    "    # Making sample\n",
    "    sample = single_bead_sample(n_m, n_bead, orientation, bead_radius, shape, spacing, k0)\n",
    "    sample = cf.center_pad(sample, (0, 2 * 90, 2 * 90, 0, 0))    # Padding sample \n",
    "\n",
    "    # Running simulation\n",
    "    field = thick_polarised_sample(in_field, sample, n_m, dz=spacing)\n",
    "\n",
    "    # Making plotting a little easier\n",
    "    # ::-1 to invert y axis\n",
    "    amplitude = field.amplitude.squeeze()\n",
    "    amplitude = amplitude[::-1][2 * 90:-2 * 90, 2 * 90:-2 * 90]\n",
    "\n",
    "    phase = field.phase.squeeze()\n",
    "    phase = phase[::-1][2 * 90:-2 * 90, 2 * 90:-2 * 90]\n",
    "\n",
    "    return amplitude, phase"
   ]
  },
  {
   "cell_type": "code",
   "execution_count": 11,
   "metadata": {},
   "outputs": [
    {
     "ename": "TypeError",
     "evalue": "Shapes must be 1D sequences of concrete values of integer type, got (1, 4.55, 5.85, 5.85, 1, 3).",
     "output_type": "error",
     "traceback": [
      "\u001b[0;31m---------------------------------------------------------------------------\u001b[0m",
      "\u001b[0;31mTypeError\u001b[0m                                 Traceback (most recent call last)",
      "Cell \u001b[0;32mIn[11], line 1\u001b[0m\n\u001b[0;32m----> 1\u001b[0m \u001b[43mrun_sim\u001b[49m\u001b[43m(\u001b[49m\u001b[43mjnp\u001b[49m\u001b[38;5;241;43m.\u001b[39;49m\u001b[43marray\u001b[49m\u001b[43m(\u001b[49m\u001b[43m[\u001b[49m\u001b[38;5;241;43m0\u001b[39;49m\u001b[43m,\u001b[49m\u001b[43m \u001b[49m\u001b[38;5;241;43m0\u001b[39;49m\u001b[43m,\u001b[49m\u001b[43m \u001b[49m\u001b[38;5;241;43m0\u001b[39;49m\u001b[43m]\u001b[49m\u001b[43m)\u001b[49m\u001b[43m)\u001b[49m\n",
      "Cell \u001b[0;32mIn[10], line 14\u001b[0m, in \u001b[0;36mrun_sim\u001b[0;34m(orientation)\u001b[0m\n\u001b[1;32m     11\u001b[0m shape \u001b[38;5;241m=\u001b[39m (\u001b[38;5;241m4.55\u001b[39m, \u001b[38;5;241m11.7\u001b[39m \u001b[38;5;241m/\u001b[39m \u001b[38;5;241m2\u001b[39m, \u001b[38;5;241m11.7\u001b[39m \u001b[38;5;241m/\u001b[39m \u001b[38;5;241m2\u001b[39m)  \u001b[38;5;66;03m# z y x # / 2 as we have only 1 bead\u001b[39;00m\n\u001b[1;32m     13\u001b[0m \u001b[38;5;66;03m# Making incoming field\u001b[39;00m\n\u001b[0;32m---> 14\u001b[0m in_field \u001b[38;5;241m=\u001b[39m \u001b[43mcf\u001b[49m\u001b[38;5;241;43m.\u001b[39;49m\u001b[43mplane_wave\u001b[49m\u001b[43m(\u001b[49m\u001b[43mshape\u001b[49m\u001b[43m,\u001b[49m\u001b[43m \u001b[49m\u001b[43mspacing\u001b[49m\u001b[43m,\u001b[49m\u001b[43m \u001b[49m\u001b[43mwavelength\u001b[49m\u001b[43m,\u001b[49m\u001b[43m \u001b[49m\u001b[38;5;241;43m1.0\u001b[39;49m\u001b[43m,\u001b[49m\u001b[43m \u001b[49m\u001b[43mamplitude\u001b[49m\u001b[38;5;241;43m=\u001b[39;49m\u001b[43mpolarisation\u001b[49m\u001b[43m,\u001b[49m\u001b[43m \u001b[49m\u001b[43mscalar\u001b[49m\u001b[38;5;241;43m=\u001b[39;49m\u001b[38;5;28;43;01mFalse\u001b[39;49;00m\u001b[43m,\u001b[49m\u001b[43m \u001b[49m\u001b[43mpupil\u001b[49m\u001b[38;5;241;43m=\u001b[39;49m\u001b[38;5;28;43;01mlambda\u001b[39;49;00m\u001b[43m \u001b[49m\u001b[43mf\u001b[49m\u001b[43m:\u001b[49m\u001b[43m \u001b[49m\u001b[43mcf\u001b[49m\u001b[38;5;241;43m.\u001b[39;49m\u001b[43msquare_pupil\u001b[49m\u001b[43m(\u001b[49m\u001b[43mf\u001b[49m\u001b[43m,\u001b[49m\u001b[43m \u001b[49m\u001b[43mw\u001b[49m\u001b[43m \u001b[49m\u001b[38;5;241;43m=\u001b[39;49m\u001b[38;5;241;43m90\u001b[39;49m\u001b[38;5;241;43m*\u001b[39;49m\u001b[43mspacing\u001b[49m\u001b[43m)\u001b[49m\u001b[43m,\u001b[49m\u001b[43m \u001b[49m\u001b[43mpower\u001b[49m\u001b[38;5;241;43m=\u001b[39;49m\u001b[38;5;241;43m100\u001b[39;49m\u001b[43m)\u001b[49m\n\u001b[1;32m     16\u001b[0m \u001b[38;5;66;03m# Making sample\u001b[39;00m\n\u001b[1;32m     17\u001b[0m sample \u001b[38;5;241m=\u001b[39m single_bead_sample(n_m, n_bead, orientation, bead_radius, shape, spacing, k0)\n",
      "File \u001b[0;32m~/Documents/optics/chromatix/src/chromatix/functional/sources.py:159\u001b[0m, in \u001b[0;36mplane_wave\u001b[0;34m(shape, dx, spectrum, spectral_density, power, amplitude, kykx, pupil, scalar)\u001b[0m\n\u001b[1;32m    135\u001b[0m \u001b[38;5;250m\u001b[39m\u001b[38;5;124;03m\"\"\"\u001b[39;00m\n\u001b[1;32m    136\u001b[0m \u001b[38;5;124;03mGenerates plane wave of given ``power``.\u001b[39;00m\n\u001b[1;32m    137\u001b[0m \n\u001b[0;32m   (...)\u001b[0m\n\u001b[1;32m    156\u001b[0m \u001b[38;5;124;03m        ``VectorField`` (if False). Defaults to True.\u001b[39;00m\n\u001b[1;32m    157\u001b[0m \u001b[38;5;124;03m\"\"\"\u001b[39;00m\n\u001b[1;32m    158\u001b[0m create \u001b[38;5;241m=\u001b[39m ScalarField\u001b[38;5;241m.\u001b[39mcreate \u001b[38;5;28;01mif\u001b[39;00m scalar \u001b[38;5;28;01melse\u001b[39;00m VectorField\u001b[38;5;241m.\u001b[39mcreate\n\u001b[0;32m--> 159\u001b[0m field \u001b[38;5;241m=\u001b[39m \u001b[43mcreate\u001b[49m\u001b[43m(\u001b[49m\u001b[43mdx\u001b[49m\u001b[43m,\u001b[49m\u001b[43m \u001b[49m\u001b[43mspectrum\u001b[49m\u001b[43m,\u001b[49m\u001b[43m \u001b[49m\u001b[43mspectral_density\u001b[49m\u001b[43m,\u001b[49m\u001b[43m \u001b[49m\u001b[43mshape\u001b[49m\u001b[38;5;241;43m=\u001b[39;49m\u001b[43mshape\u001b[49m\u001b[43m)\u001b[49m\n\u001b[1;32m    160\u001b[0m kykx \u001b[38;5;241m=\u001b[39m _broadcast_1d_to_grid(kykx, field\u001b[38;5;241m.\u001b[39mndim)\n\u001b[1;32m    161\u001b[0m amplitude \u001b[38;5;241m=\u001b[39m _broadcast_1d_to_polarization(amplitude, field\u001b[38;5;241m.\u001b[39mndim)\n",
      "File \u001b[0;32m~/Documents/optics/chromatix/src/chromatix/field.py:409\u001b[0m, in \u001b[0;36mVectorField.create\u001b[0;34m(cls, dx, spectrum, spectral_density, u, shape)\u001b[0m\n\u001b[1;32m    407\u001b[0m \u001b[38;5;28;01mif\u001b[39;00m u \u001b[38;5;129;01mis\u001b[39;00m \u001b[38;5;28;01mNone\u001b[39;00m:\n\u001b[1;32m    408\u001b[0m     \u001b[38;5;28;01massert\u001b[39;00m shape \u001b[38;5;129;01mis\u001b[39;00m \u001b[38;5;129;01mnot\u001b[39;00m \u001b[38;5;28;01mNone\u001b[39;00m, \u001b[38;5;124m\"\u001b[39m\u001b[38;5;124mMust specify shape if u is None\u001b[39m\u001b[38;5;124m\"\u001b[39m\n\u001b[0;32m--> 409\u001b[0m     u \u001b[38;5;241m=\u001b[39m \u001b[43mjnp\u001b[49m\u001b[38;5;241;43m.\u001b[39;49m\u001b[43mempty\u001b[49m\u001b[43m(\u001b[49m\u001b[43m(\u001b[49m\u001b[38;5;241;43m1\u001b[39;49m\u001b[43m,\u001b[49m\u001b[43m \u001b[49m\u001b[38;5;241;43m*\u001b[39;49m\u001b[43mshape\u001b[49m\u001b[43m,\u001b[49m\u001b[43m \u001b[49m\u001b[43mspectrum\u001b[49m\u001b[38;5;241;43m.\u001b[39;49m\u001b[43msize\u001b[49m\u001b[43m,\u001b[49m\u001b[43m \u001b[49m\u001b[38;5;241;43m3\u001b[39;49m\u001b[43m)\u001b[49m\u001b[43m,\u001b[49m\u001b[43m \u001b[49m\u001b[43mdtype\u001b[49m\u001b[38;5;241;43m=\u001b[39;49m\u001b[43mjnp\u001b[49m\u001b[38;5;241;43m.\u001b[39;49m\u001b[43mcomplex64\u001b[49m\u001b[43m)\u001b[49m\n\u001b[1;32m    410\u001b[0m ndim \u001b[38;5;241m=\u001b[39m \u001b[38;5;28mlen\u001b[39m(u\u001b[38;5;241m.\u001b[39mshape)\n\u001b[1;32m    411\u001b[0m \u001b[38;5;28;01massert\u001b[39;00m (\n\u001b[1;32m    412\u001b[0m     ndim \u001b[38;5;241m>\u001b[39m\u001b[38;5;241m=\u001b[39m \u001b[38;5;241m5\u001b[39m\n\u001b[1;32m    413\u001b[0m ), \u001b[38;5;124m\"\u001b[39m\u001b[38;5;124mField must be Array with at least 5 dimensions: (B... H W C 3).\u001b[39m\u001b[38;5;124m\"\u001b[39m\n",
      "File \u001b[0;32m~/Documents/optics/chromatix/.venv/lib/python3.10/site-packages/jax/_src/numpy/lax_numpy.py:5583\u001b[0m, in \u001b[0;36mempty\u001b[0;34m(shape, dtype, device)\u001b[0m\n\u001b[1;32m   5581\u001b[0m \u001b[38;5;28;01mif\u001b[39;00m (m \u001b[38;5;241m:=\u001b[39m _check_forgot_shape_tuple(\u001b[38;5;124m\"\u001b[39m\u001b[38;5;124mempty\u001b[39m\u001b[38;5;124m\"\u001b[39m, shape, dtype)): \u001b[38;5;28;01mraise\u001b[39;00m \u001b[38;5;167;01mTypeError\u001b[39;00m(m)\n\u001b[1;32m   5582\u001b[0m dtypes\u001b[38;5;241m.\u001b[39mcheck_user_dtype_supported(dtype, \u001b[38;5;124m\"\u001b[39m\u001b[38;5;124mempty\u001b[39m\u001b[38;5;124m\"\u001b[39m)\n\u001b[0;32m-> 5583\u001b[0m \u001b[38;5;28;01mreturn\u001b[39;00m \u001b[43mzeros\u001b[49m\u001b[43m(\u001b[49m\u001b[43mshape\u001b[49m\u001b[43m,\u001b[49m\u001b[43m \u001b[49m\u001b[43mdtype\u001b[49m\u001b[43m,\u001b[49m\u001b[43m \u001b[49m\u001b[43mdevice\u001b[49m\u001b[38;5;241;43m=\u001b[39;49m\u001b[43mdevice\u001b[49m\u001b[43m)\u001b[49m\n",
      "File \u001b[0;32m~/Documents/optics/chromatix/.venv/lib/python3.10/site-packages/jax/_src/numpy/lax_numpy.py:5511\u001b[0m, in \u001b[0;36mzeros\u001b[0;34m(shape, dtype, device)\u001b[0m\n\u001b[1;32m   5509\u001b[0m \u001b[38;5;28;01mif\u001b[39;00m (m \u001b[38;5;241m:=\u001b[39m _check_forgot_shape_tuple(\u001b[38;5;124m\"\u001b[39m\u001b[38;5;124mzeros\u001b[39m\u001b[38;5;124m\"\u001b[39m, shape, dtype)): \u001b[38;5;28;01mraise\u001b[39;00m \u001b[38;5;167;01mTypeError\u001b[39;00m(m)\n\u001b[1;32m   5510\u001b[0m dtypes\u001b[38;5;241m.\u001b[39mcheck_user_dtype_supported(dtype, \u001b[38;5;124m\"\u001b[39m\u001b[38;5;124mzeros\u001b[39m\u001b[38;5;124m\"\u001b[39m)\n\u001b[0;32m-> 5511\u001b[0m shape \u001b[38;5;241m=\u001b[39m \u001b[43mcanonicalize_shape\u001b[49m\u001b[43m(\u001b[49m\u001b[43mshape\u001b[49m\u001b[43m)\u001b[49m\n\u001b[1;32m   5512\u001b[0m \u001b[38;5;28;01mreturn\u001b[39;00m lax\u001b[38;5;241m.\u001b[39mfull(shape, \u001b[38;5;241m0\u001b[39m, _jnp_dtype(dtype), sharding\u001b[38;5;241m=\u001b[39m_normalize_to_sharding(device))\n",
      "File \u001b[0;32m~/Documents/optics/chromatix/.venv/lib/python3.10/site-packages/jax/_src/numpy/lax_numpy.py:98\u001b[0m, in \u001b[0;36mcanonicalize_shape\u001b[0;34m(shape, context)\u001b[0m\n\u001b[1;32m     96\u001b[0m   \u001b[38;5;28;01mreturn\u001b[39;00m core\u001b[38;5;241m.\u001b[39mcanonicalize_shape((shape,), context)\n\u001b[1;32m     97\u001b[0m \u001b[38;5;28;01melse\u001b[39;00m:\n\u001b[0;32m---> 98\u001b[0m   \u001b[38;5;28;01mreturn\u001b[39;00m \u001b[43mcore\u001b[49m\u001b[38;5;241;43m.\u001b[39;49m\u001b[43mcanonicalize_shape\u001b[49m\u001b[43m(\u001b[49m\u001b[43mshape\u001b[49m\u001b[43m,\u001b[49m\u001b[43m \u001b[49m\u001b[43mcontext\u001b[49m\u001b[43m)\u001b[49m\n",
      "File \u001b[0;32m~/Documents/optics/chromatix/.venv/lib/python3.10/site-packages/jax/_src/core.py:1716\u001b[0m, in \u001b[0;36mcanonicalize_shape\u001b[0;34m(shape, context)\u001b[0m\n\u001b[1;32m   1714\u001b[0m \u001b[38;5;28;01mexcept\u001b[39;00m \u001b[38;5;167;01mTypeError\u001b[39;00m:\n\u001b[1;32m   1715\u001b[0m   \u001b[38;5;28;01mpass\u001b[39;00m\n\u001b[0;32m-> 1716\u001b[0m \u001b[38;5;28;01mraise\u001b[39;00m _invalid_shape_error(shape, context)\n",
      "\u001b[0;31mTypeError\u001b[0m: Shapes must be 1D sequences of concrete values of integer type, got (1, 4.55, 5.85, 5.85, 1, 3)."
     ]
    }
   ],
   "source": [
    "run_sim(jnp.array([0, 0, 0]))"
   ]
  },
  {
   "cell_type": "code",
   "execution_count": null,
   "metadata": {},
   "outputs": [],
   "source": []
  }
 ],
 "metadata": {
  "kernelspec": {
   "display_name": ".venv",
   "language": "python",
   "name": "python3"
  },
  "language_info": {
   "codemirror_mode": {
    "name": "ipython",
    "version": 3
   },
   "file_extension": ".py",
   "mimetype": "text/x-python",
   "name": "python",
   "nbconvert_exporter": "python",
   "pygments_lexer": "ipython3",
   "version": "3.10.14"
  }
 },
 "nbformat": 4,
 "nbformat_minor": 2
}

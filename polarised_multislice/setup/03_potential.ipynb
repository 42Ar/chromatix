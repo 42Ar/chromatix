{
 "cells": [
  {
   "cell_type": "markdown",
   "metadata": {},
   "source": [
    "# Constructing the scattering potential of the sample"
   ]
  },
  {
   "cell_type": "code",
   "execution_count": 1,
   "metadata": {},
   "outputs": [
    {
     "name": "stdout",
     "output_type": "stream",
     "text": [
      "Shape of principal dielectric tensors: (4, 4, 4, 3, 3)\n",
      "Principal dielectric tensor at (0, 0, 0):\n",
      " [[2.89 0.   0.  ]\n",
      " [0.   2.25 0.  ]\n",
      " [0.   0.   2.25]]\n",
      "Shape of global dielectric tensor: (4, 4, 4, 3, 3)\n",
      "Global dielectric tensor at (0, 0, 0):\n",
      " [[ 0.57510483  2.4122221  -0.09732686]\n",
      " [ 2.355218   -0.24285853 -0.0688205 ]\n",
      " [-0.53031844 -0.53031844 -2.4788756 ]]\n"
     ]
    }
   ],
   "source": [
    "import jax.numpy as jnp\n",
    "import matplotlib.pyplot as plt\n",
    "import numpy as np\n",
    "import sys\n",
    "\n",
    "sys.path.append(\"../\")\n",
    "from sample import (\n",
    "    calc_extraordinary_refractive_index,\n",
    "    dielectric_tensor_global,\n",
    "    rotation_matrix_to_align_axes_single,\n",
    "    rotation_matrix_to_align_axes,\n",
    "    principal_dielectric_tensor\n",
    ")\n",
    "\n",
    "%config InlineBackend.figure_format='retina'"
   ]
  },
  {
   "cell_type": "markdown",
   "metadata": {},
   "source": [
    "## Example usages of the functions\n"
   ]
  },
  {
   "cell_type": "code",
   "execution_count": 19,
   "metadata": {},
   "outputs": [
    {
     "ename": "NameError",
     "evalue": "name 'principal_dielectric_tensor' is not defined",
     "output_type": "error",
     "traceback": [
      "\u001b[1;31m---------------------------------------------------------------------------\u001b[0m",
      "\u001b[1;31mNameError\u001b[0m                                 Traceback (most recent call last)",
      "Cell \u001b[1;32mIn[19], line 4\u001b[0m\n\u001b[0;32m      1\u001b[0m n_o_array \u001b[38;5;241m=\u001b[39m jnp\u001b[38;5;241m.\u001b[39mones((\u001b[38;5;241m4\u001b[39m, \u001b[38;5;241m4\u001b[39m, \u001b[38;5;241m4\u001b[39m)) \u001b[38;5;241m*\u001b[39m \u001b[38;5;241m1.5\u001b[39m  \u001b[38;5;66;03m# Example 3D array of ordinary refractive indices\u001b[39;00m\n\u001b[0;32m      2\u001b[0m n_e_array \u001b[38;5;241m=\u001b[39m jnp\u001b[38;5;241m.\u001b[39mones((\u001b[38;5;241m4\u001b[39m, \u001b[38;5;241m4\u001b[39m, \u001b[38;5;241m4\u001b[39m)) \u001b[38;5;241m*\u001b[39m \u001b[38;5;241m1.7\u001b[39m  \u001b[38;5;66;03m# Example 3D array of extraordinary refractive indices\u001b[39;00m\n\u001b[1;32m----> 4\u001b[0m principal_tensors \u001b[38;5;241m=\u001b[39m \u001b[43mprincipal_dielectric_tensor\u001b[49m(n_o_array, n_e_array)\n\u001b[0;32m      5\u001b[0m \u001b[38;5;28mprint\u001b[39m(\u001b[38;5;124m\"\u001b[39m\u001b[38;5;124mShape of principal dielectric tensors:\u001b[39m\u001b[38;5;124m\"\u001b[39m, principal_tensors\u001b[38;5;241m.\u001b[39mshape)\n\u001b[0;32m      6\u001b[0m \u001b[38;5;28mprint\u001b[39m(\u001b[38;5;124m\"\u001b[39m\u001b[38;5;124mPrincipal dielectric tensor at (0, 0, 0):\u001b[39m\u001b[38;5;130;01m\\n\u001b[39;00m\u001b[38;5;124m\"\u001b[39m, principal_tensors[\u001b[38;5;241m0\u001b[39m, \u001b[38;5;241m0\u001b[39m, \u001b[38;5;241m0\u001b[39m])\n",
      "\u001b[1;31mNameError\u001b[0m: name 'principal_dielectric_tensor' is not defined"
     ]
    }
   ],
   "source": [
    "n_o_array = jnp.ones((4, 4, 4)) * 1.5  # Example 3D array of ordinary refractive indices\n",
    "n_e_array = jnp.ones((4, 4, 4)) * 1.7  # Example 3D array of extraordinary refractive indices\n",
    "\n",
    "principal_tensors = principal_dielectric_tensor(n_o_array, n_e_array)\n",
    "print(\"Shape of principal dielectric tensors:\", principal_tensors.shape)\n",
    "print(\"Principal dielectric tensor at (0, 0, 0):\\n\", principal_tensors[0, 0, 0])\n"
   ]
  },
  {
   "cell_type": "markdown",
   "metadata": {},
   "source": [
    "Create components for the optic_axis array"
   ]
  },
  {
   "cell_type": "code",
   "execution_count": null,
   "metadata": {},
   "outputs": [],
   "source": [
    "z, y, x = 4, 4, 4  # Grid size\n",
    "\n",
    "# For simplicity, use a gradient or a constant array for each component\n",
    "optic_axis_z = np.ones((z, y, x)) * 0.577  # Example constant value for z-component\n",
    "optic_axis_y = np.ones((z, y, x)) * 0.577  # Example constant value for y-component\n",
    "optic_axis_x = np.ones((z, y, x)) * 0.577  # Example constant value for x-component\n",
    "\n",
    "# Stack the components to create an array of shape (3, z, y, x)\n",
    "optic_axis = np.stack([optic_axis_z, optic_axis_y, optic_axis_x], axis=0)\n",
    "epsilon_global = dielectric_tensor_global(n_o_array, n_e_array, optic_axis)\n",
    "print(\"Shape of global dielectric tensor:\", epsilon_global.shape)\n",
    "print(\"Global dielectric tensor at (0, 0, 0):\\n\", epsilon_global[0, 0, 0])"
   ]
  },
  {
   "cell_type": "markdown",
   "metadata": {},
   "source": [
    "Steps for forming the global dielectric tensor"
   ]
  },
  {
   "cell_type": "code",
   "execution_count": null,
   "metadata": {},
   "outputs": [],
   "source": [
    "epsilon_prime = principal_dielectric_tensor(n_o_array, n_e_array)\n",
    "\n",
    "# Rotation matrix from local to global coordinates\n",
    "rotation_matrices = rotation_matrix_to_align_axes(optic_axis)"
   ]
  },
  {
   "cell_type": "markdown",
   "metadata": {},
   "source": [
    "### Single optic axis vector"
   ]
  },
  {
   "cell_type": "code",
   "execution_count": 3,
   "metadata": {},
   "outputs": [
    {
     "name": "stdout",
     "output_type": "stream",
     "text": [
      "Rotation matrix:\n",
      " [[ 0.57735027  0.40824829 -0.70710678]\n",
      " [ 0.57735027  0.40824829  0.70710678]\n",
      " [ 0.57735027 -0.81649658  0.        ]]\n"
     ]
    }
   ],
   "source": [
    "vector = np.array([0.577, 0.577, 0.577])  # Example unit vector\n",
    "rotation_matrix = rotation_matrix_to_align_axes_single(vector)\n",
    "print(\"Rotation matrix:\\n\", rotation_matrix)\n",
    "# %%"
   ]
  },
  {
   "cell_type": "markdown",
   "metadata": {},
   "source": [
    "## Shell sample"
   ]
  },
  {
   "cell_type": "code",
   "execution_count": 2,
   "metadata": {},
   "outputs": [],
   "source": [
    "# Unpacking data\n",
    "data = np.load('shell_wide_mla15.npz')\n",
    "ret = data['ret_image']\n",
    "azim = data['azim_image']\n",
    "img_array = data['intensity_images']\n",
    "birefringence = data['birefingence']\n",
    "optic_axis = data['optic_axis']"
   ]
  },
  {
   "cell_type": "code",
   "execution_count": 4,
   "metadata": {},
   "outputs": [
    {
     "name": "stdout",
     "output_type": "stream",
     "text": [
      "Shape of shell sample: (9, 29, 29)\n"
     ]
    }
   ],
   "source": [
    "n_o = np.full(birefringence.shape, 1.45)\n",
    "n_medium = 1.52\n",
    "wavelength = 0.546\n",
    "n_e = calc_extraordinary_refractive_index(birefringence, n_o)\n",
    "print(f\"Shape of shell sample: {n_e.shape}\")"
   ]
  },
  {
   "cell_type": "code",
   "execution_count": 5,
   "metadata": {},
   "outputs": [
    {
     "name": "stdout",
     "output_type": "stream",
     "text": [
      "[[[ 2.003532    0.38648635  0.37467846]\n",
      "  [ 0.37467846 -2.0666726   0.07006824]\n",
      "  [ 0.38648635  0.         -2.0666726 ]]\n",
      "\n",
      " [[ 2.0736      0.          0.        ]\n",
      "  [ 0.         -2.1025002   0.        ]\n",
      "  [ 0.          0.         -2.1025002 ]]\n",
      "\n",
      " [[ 2.003532   -0.38648635 -0.37467846]\n",
      "  [-0.37467846 -2.0666726   0.07006824]\n",
      "  [-0.38648635  0.         -2.0666726 ]]\n",
      "\n",
      " [[ 0.37023556  2.0311809  -0.34088346]\n",
      "  [ 2.0416958  -0.424531   -0.22992067]\n",
      "  [-0.2708802  -0.2704947  -2.052731  ]]\n",
      "\n",
      " [[ 0.64758897  1.8651971  -0.68695563]\n",
      "  [ 1.920107   -0.7925381  -0.3088941 ]\n",
      "  [-0.5138648  -0.51313347 -1.9577755 ]]\n",
      "\n",
      " [[ 0.8874201   1.537913   -1.1001333 ]\n",
      "  [ 1.7222351  -1.1791221  -0.24734102]\n",
      "  [-0.7806254  -0.77951443 -1.7729156 ]]\n",
      "\n",
      " [[ 1.0382767   1.036799   -1.485633  ]\n",
      "  [ 1.485633   -1.4877504   0.        ]\n",
      "  [-1.036799   -1.0353234  -1.4877504 ]]\n",
      "\n",
      " [[ 1.0892187   0.43591255 -1.7281687 ]\n",
      "  [ 1.2778308  -1.6228938   0.38854113]\n",
      "  [-1.2424713  -1.240703   -1.1301191 ]]\n",
      "\n",
      " [[ 1.0797185  -0.14034797 -1.7845868 ]\n",
      "  [ 1.1434121  -1.5681276   0.802451  ]\n",
      "  [-1.3773367  -1.3753766  -0.7559964 ]]\n",
      "\n",
      " [[ 1.0570178  -0.6059588  -1.7013228 ]\n",
      "  [ 1.0790352  -1.3858216   1.1475163 ]\n",
      "  [-1.4482293  -1.4461682  -0.41409823]]\n",
      "\n",
      " [[ 0.43533343  1.9820074   0.51039857]\n",
      "  [ 1.9171684  -0.5947145   0.58035636]\n",
      "  [ 0.716467    0.35772362 -1.9378167 ]]\n",
      "\n",
      " [[ 0.76639575  1.9075284   0.37222245]\n",
      "  [ 1.8879238  -0.84546536  0.31743085]\n",
      "  [ 0.46147326  0.23040825 -2.0323334 ]]\n",
      "\n",
      " [[ 1.1512173   1.7362522   0.08732643]\n",
      "  [ 1.7348772  -1.1767093   0.04964792]\n",
      "  [ 0.11134784  0.05559467 -2.0930684 ]]\n",
      "\n",
      " [[ 1.4999241   1.391462   -0.38103133]\n",
      "  [ 1.4027833  -1.5600485  -0.10831438]\n",
      "  [-0.33697245 -0.16824639 -2.0626602 ]]\n",
      "\n",
      " [[ 1.6598244   0.82873106 -0.9391957 ]\n",
      "  [ 0.9391957  -1.8810686   0.        ]\n",
      "  [-0.82873106 -0.4137758  -1.8810686 ]]\n",
      "\n",
      " [[ 1.5715288   0.14207873 -1.3569207 ]\n",
      "  [ 0.5296728  -1.9959824   0.38572684]\n",
      "  [-1.2573253  -0.6277679  -1.5561056 ]]\n",
      "\n",
      " [[ 1.3575306  -0.48366353 -1.5068773 ]\n",
      "  [ 0.30857235 -1.8888468   0.8567088 ]\n",
      "  [-1.5522218  -0.7750063  -1.1774535 ]]\n",
      "\n",
      " [[ 1.1555135  -0.9479414  -1.4597164 ]\n",
      "  [ 0.24892178 -1.6638001   1.2448446 ]\n",
      "  [-1.7226151  -0.86008173 -0.83022934]]\n",
      "\n",
      " [[ 1.0124506  -1.2591457  -1.3296131 ]\n",
      "  [ 0.27094367 -1.4166554   1.5118568 ]\n",
      "  [-1.8110517  -0.90423703 -0.5466917 ]]\n",
      "\n",
      " [[ 0.7928949   1.652335    1.0077026 ]\n",
      "  [ 1.0077026  -1.3001138   1.2807051 ]\n",
      "  [ 1.652335    0.         -1.3001138 ]]\n",
      "\n",
      " [[ 1.0864707   1.4506433   1.0356096 ]\n",
      "  [ 1.0356096  -1.5218875   0.98712957]\n",
      "  [ 1.4506433   0.         -1.5218875 ]]\n",
      "\n",
      " [[ 1.4771264   1.1276367   0.9386517 ]\n",
      "  [ 0.9386517  -1.774526    0.5964737 ]\n",
      "  [ 1.1276367   0.         -1.774526  ]]\n",
      "\n",
      " [[ 1.4771264  -1.1276367  -0.9386517 ]\n",
      "  [-0.9386517  -1.774526    0.5964737 ]\n",
      "  [-1.1276367   0.         -1.774526  ]]\n",
      "\n",
      " [[ 1.0864707  -1.4506433  -1.0356096 ]\n",
      "  [-1.0356096  -1.5218875   0.98712957]\n",
      "  [-1.4506433   0.         -1.5218875 ]]\n",
      "\n",
      " [[ 0.7928949  -1.652335   -1.0077026 ]\n",
      "  [-1.0077026  -1.3001138   1.2807051 ]\n",
      "  [-1.652335    0.         -1.3001138 ]]\n",
      "\n",
      " [[ 1.0124506   1.2591457   1.3296131 ]\n",
      "  [-0.27094367 -1.4166554   1.5118568 ]\n",
      "  [ 1.8110517  -0.90423703 -0.5466917 ]]\n",
      "\n",
      " [[ 1.1555135   0.9479414   1.4597164 ]\n",
      "  [-0.24892178 -1.6638001   1.2448446 ]\n",
      "  [ 1.7226151  -0.86008173 -0.83022934]]\n",
      "\n",
      " [[ 1.3575306   0.48366353  1.5068773 ]\n",
      "  [-0.30857235 -1.8888468   0.8567088 ]\n",
      "  [ 1.5522218  -0.7750063  -1.1774535 ]]\n",
      "\n",
      " [[ 1.5715288  -0.14207873  1.3569207 ]\n",
      "  [-0.5296728  -1.9959824   0.38572684]\n",
      "  [ 1.2573253  -0.6277679  -1.5561056 ]]\n",
      "\n",
      " [[ 1.6598244  -0.82873106  0.9391957 ]\n",
      "  [-0.9391957  -1.8810686   0.        ]\n",
      "  [ 0.82873106 -0.4137758  -1.8810686 ]]\n",
      "\n",
      " [[ 1.4999241  -1.391462    0.38103133]\n",
      "  [-1.4027833  -1.5600485  -0.10831438]\n",
      "  [ 0.33697245 -0.16824639 -2.0626602 ]]\n",
      "\n",
      " [[ 1.1512173  -1.7362522  -0.08732643]\n",
      "  [-1.7348772  -1.1767093   0.04964792]\n",
      "  [-0.11134784  0.05559467 -2.0930684 ]]\n",
      "\n",
      " [[ 0.76639575 -1.9075284  -0.37222245]\n",
      "  [-1.8879238  -0.84546536  0.31743085]\n",
      "  [-0.46147326  0.23040825 -2.0323334 ]]\n",
      "\n",
      " [[ 0.43533343 -1.9820074  -0.51039857]\n",
      "  [-1.9171684  -0.5947145   0.58035636]\n",
      "  [-0.716467    0.35772362 -1.9378167 ]]\n",
      "\n",
      " [[ 1.0570178   0.6059588   1.7013228 ]\n",
      "  [-1.0790352  -1.3858216   1.1475163 ]\n",
      "  [ 1.4482293  -1.4461682  -0.41409823]]\n",
      "\n",
      " [[ 1.0797185   0.14034797  1.7845868 ]\n",
      "  [-1.1434121  -1.5681276   0.802451  ]\n",
      "  [ 1.3773367  -1.3753766  -0.7559964 ]]\n",
      "\n",
      " [[ 1.0892187  -0.43591255  1.7281687 ]\n",
      "  [-1.2778308  -1.6228938   0.38854113]\n",
      "  [ 1.2424713  -1.240703   -1.1301191 ]]\n",
      "\n",
      " [[ 1.0382767  -1.036799    1.485633  ]\n",
      "  [-1.485633   -1.4877504   0.        ]\n",
      "  [ 1.036799   -1.0353234  -1.4877504 ]]\n",
      "\n",
      " [[ 0.8874201  -1.537913    1.1001333 ]\n",
      "  [-1.7222351  -1.1791221  -0.24734102]\n",
      "  [ 0.7806254  -0.77951443 -1.7729156 ]]\n",
      "\n",
      " [[ 0.64758897 -1.8651971   0.68695563]\n",
      "  [-1.920107   -0.7925381  -0.3088941 ]\n",
      "  [ 0.5138648  -0.51313347 -1.9577755 ]]\n",
      "\n",
      " [[ 0.37023556 -2.0311809   0.34088346]\n",
      "  [-2.0416958  -0.424531   -0.22992067]\n",
      "  [ 0.2708802  -0.2704947  -2.052731  ]]\n",
      "\n",
      " [[-0.5789957   1.217102   -1.612433  ]\n",
      "  [ 1.9916623   0.05760877 -0.6706557 ]\n",
      "  [-0.3384656  -1.6843258  -1.1631804 ]]\n",
      "\n",
      " [[-0.2615947   0.8711012  -1.8944044 ]\n",
      "  [ 2.050994   -0.24192214 -0.3939677 ]\n",
      "  [-0.37551168 -1.8686805  -0.81946653]]\n",
      "\n",
      " [[ 0.08048399  0.40051708 -2.0612936 ]\n",
      "  [ 2.0612936  -0.41421735  0.        ]\n",
      "  [-0.4005171  -1.9931163  -0.41421735]]\n",
      "\n",
      " [[ 0.41588956 -0.10327482 -2.0572767 ]\n",
      "  [ 2.018906   -0.4016023   0.42783925]\n",
      "  [-0.40874276 -2.0340502   0.00838549]]\n",
      "\n",
      " [[ 0.7162238  -0.5342062  -1.9021463 ]\n",
      "  [ 1.9345853  -0.22642657  0.7911556 ]\n",
      "  [-0.4011443  -1.9962376   0.39827088]]\n",
      "\n",
      " [[-1.2017359   1.6448045  -0.5166348 ]\n",
      "  [ 1.7088764   1.0478071  -0.6295571 ]\n",
      "  [-0.22811003 -0.7567713  -1.9196699 ]]\n",
      "\n",
      " [[-0.97463346  1.6813551  -0.79885197]\n",
      "  [ 1.8363578   0.7146218  -0.7300942 ]\n",
      "  [-0.3048099  -1.0112287  -1.7872819 ]]\n",
      "\n",
      " [[ 1.1628454  -1.0569485  -1.3948765 ]\n",
      "  [ 1.6643454   0.14395808  1.2748185 ]\n",
      "  [-0.54108644 -1.7950929   0.8914796 ]]\n",
      "\n",
      " [[ 1.3407421  -1.1836413  -1.1035697 ]\n",
      "  [ 1.5394872   0.48584646  1.3447798 ]\n",
      "  [-0.4988502  -1.6549714   1.1498208 ]]\n",
      "\n",
      " [[-1.3241119   1.6266071   0.13253602]\n",
      "  [ 1.6183974   1.2816056   0.36115456]\n",
      "  [ 0.21025379  0.34876597 -2.0411134 ]]\n",
      "\n",
      " [[-1.1882303   1.7304425   0.09269616]\n",
      "  [ 1.7282553   1.1688584   0.20207413]\n",
      "  [ 0.12711172  0.21085119 -2.06673   ]]\n",
      "\n",
      " [[ 1.3804089  -1.4116594  -0.71875185]\n",
      "  [ 1.309313    0.4739229   1.5668523 ]\n",
      "  [-0.89167565 -1.479099    1.1615373 ]]\n",
      "\n",
      " [[ 1.4553177  -1.4089649  -0.5599618 ]\n",
      "  [ 1.2608678   0.68854076  1.5258701 ]\n",
      "  [-0.8419927  -1.3966856   1.2931765 ]]\n",
      "\n",
      " [[ 0.07185826  2.0657492   0.37926468]\n",
      "  [ 0.37926468 -0.39139196  2.001742  ]\n",
      "  [ 2.0657492   0.         -0.39139196]]\n",
      "\n",
      " [[ 0.07185826 -2.0657492  -0.37926468]\n",
      "  [-0.37926468 -0.39139196  2.001742  ]\n",
      "  [-2.0657492   0.         -0.39139196]]\n",
      "\n",
      " [[ 1.4553177   1.4089649   0.5599618 ]\n",
      "  [-1.2608678   0.68854076  1.5258701 ]\n",
      "  [ 0.8419927  -1.3966856   1.2931765 ]]\n",
      "\n",
      " [[ 1.3804089   1.4116594   0.71875185]\n",
      "  [-1.309313    0.4739229   1.5668523 ]\n",
      "  [ 0.89167565 -1.479099    1.1615373 ]]\n",
      "\n",
      " [[-1.1882303  -1.7304425  -0.09269616]\n",
      "  [-1.7282553   1.1688584   0.20207413]\n",
      "  [-0.12711172  0.21085119 -2.06673   ]]\n",
      "\n",
      " [[-1.3241119  -1.6266071  -0.13253602]\n",
      "  [-1.6183974   1.2816056   0.36115456]\n",
      "  [-0.21025379  0.34876597 -2.0411134 ]]\n",
      "\n",
      " [[ 1.3407421   1.1836413   1.1035697 ]\n",
      "  [-1.5394872   0.48584646  1.3447798 ]\n",
      "  [ 0.4988502  -1.6549714   1.1498208 ]]\n",
      "\n",
      " [[ 1.1628454   1.0569485   1.3948765 ]\n",
      "  [-1.6643454   0.14395808  1.2748185 ]\n",
      "  [ 0.54108644 -1.7950929   0.8914796 ]]\n",
      "\n",
      " [[-0.97463346 -1.6813551   0.79885197]\n",
      "  [-1.8363578   0.7146218  -0.7300942 ]\n",
      "  [ 0.3048099  -1.0112287  -1.7872819 ]]\n",
      "\n",
      " [[-1.2017359  -1.6448045   0.5166348 ]\n",
      "  [-1.7088764   1.0478071  -0.6295571 ]\n",
      "  [ 0.22811003 -0.7567713  -1.9196699 ]]\n",
      "\n",
      " [[ 0.7162238   0.5342062   1.9021463 ]\n",
      "  [-1.9345853  -0.22642657  0.7911556 ]\n",
      "  [ 0.4011443  -1.9962376   0.39827088]]\n",
      "\n",
      " [[ 0.41588956  0.10327482  2.0572767 ]\n",
      "  [-2.018906   -0.4016023   0.42783925]\n",
      "  [ 0.40874276 -2.0340502   0.00838549]]\n",
      "\n",
      " [[ 0.08048399 -0.40051708  2.0612936 ]\n",
      "  [-2.0612936  -0.41421735  0.        ]\n",
      "  [ 0.4005171  -1.9931163  -0.41421735]]\n",
      "\n",
      " [[-0.2615947  -0.8711012   1.8944044 ]\n",
      "  [-2.050994   -0.24192214 -0.3939677 ]\n",
      "  [ 0.37551168 -1.8686805  -0.81946653]]\n",
      "\n",
      " [[-0.5789957  -1.217102    1.612433  ]\n",
      "  [-1.9916623   0.05760877 -0.6706557 ]\n",
      "  [ 0.3384656  -1.6843258  -1.1631804 ]]]\n"
     ]
    }
   ],
   "source": [
    "epsilon_global = dielectric_tensor_global(n_o, n_e, optic_axis)\n",
    "non_zero_indices = jnp.nonzero(birefringence)\n",
    "print(epsilon_global[non_zero_indices])"
   ]
  },
  {
   "cell_type": "code",
   "execution_count": 6,
   "metadata": {},
   "outputs": [],
   "source": [
    "from chromatix.data.permittivity_tensors import calc_scattering_potential\n"
   ]
  },
  {
   "cell_type": "code",
   "execution_count": 7,
   "metadata": {},
   "outputs": [
    {
     "name": "stdout",
     "output_type": "stream",
     "text": [
      "Shape of scattering potential: (9, 29, 29, 3, 3)\n"
     ]
    }
   ],
   "source": [
    "scattering_potential = calc_scattering_potential(epsilon_global, n_medium, wavelength)\n",
    "print(f\"Shape of scattering potential: {scattering_potential.shape}\")"
   ]
  },
  {
   "cell_type": "markdown",
   "metadata": {},
   "source": [
    "Birefringent areas of the sample"
   ]
  },
  {
   "cell_type": "code",
   "execution_count": 15,
   "metadata": {},
   "outputs": [
    {
     "name": "stdout",
     "output_type": "stream",
     "text": [
      "[[[  40.637424  -51.18098   -49.617306]\n",
      "  [ -49.617306  579.6398     -9.278882]\n",
      "  [ -51.18098     0.        579.6398  ]]\n",
      "\n",
      " [[  31.358557    0.          0.      ]\n",
      "  [   0.        584.3843      0.      ]\n",
      "  [   0.          0.        584.3843  ]]\n",
      "\n",
      " [[  40.637424   51.18098    49.617306]\n",
      "  [  49.617306  579.6398     -9.278882]\n",
      "  [  51.18098     0.        579.6398  ]]\n",
      "\n",
      " [[ 256.92892  -268.9819     45.141956]\n",
      "  [-270.37436   362.17697    30.447557]\n",
      "  [  35.871677   35.82063   577.7936  ]]\n",
      "\n",
      " [[ 220.20001  -247.00127    90.97103 ]\n",
      "  [-254.27278   410.9108     40.90572 ]\n",
      "  [  68.04925    67.9524    565.21893 ]]]\n"
     ]
    }
   ],
   "source": [
    "print(scattering_potential[non_zero_indices][:5])"
   ]
  },
  {
   "cell_type": "markdown",
   "metadata": {},
   "source": [
    "An area of the sample without any birefringence"
   ]
  },
  {
   "cell_type": "code",
   "execution_count": 16,
   "metadata": {},
   "outputs": [
    {
     "name": "stdout",
     "output_type": "stream",
     "text": [
      "[[27.531416  0.        0.      ]\n",
      " [ 0.       27.531416  0.      ]\n",
      " [ 0.        0.       27.531416]]\n"
     ]
    }
   ],
   "source": [
    "print(scattering_potential[0, 0, 0])"
   ]
  },
  {
   "cell_type": "markdown",
   "metadata": {},
   "source": [
    "This scattering potential represents how the electric field is affected by the sample."
   ]
  }
 ],
 "metadata": {
  "kernelspec": {
   "display_name": "chromatix",
   "language": "python",
   "name": "python3"
  },
  "language_info": {
   "codemirror_mode": {
    "name": "ipython",
    "version": 3
   },
   "file_extension": ".py",
   "mimetype": "text/x-python",
   "name": "python",
   "nbconvert_exporter": "python",
   "pygments_lexer": "ipython3",
   "version": "3.12.3"
  }
 },
 "nbformat": 4,
 "nbformat_minor": 2
}
